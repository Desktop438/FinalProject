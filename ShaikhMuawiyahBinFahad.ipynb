{
 "cells": [
  {
   "cell_type": "code",
   "execution_count": 7,
   "id": "dc8351f2-c4f0-4136-93a3-27b9819671c1",
   "metadata": {},
   "outputs": [
    {
     "name": "stdout",
     "output_type": "stream",
     "text": [
      "1\n",
      "3\n",
      "5\n",
      "7\n",
      "9\n",
      "11\n",
      "13\n",
      "15\n",
      "17\n",
      "19\n"
     ]
    }
   ],
   "source": [
    "for i in range(1,21,2):\n",
    "  print (i)"
   ]
  },
  {
   "cell_type": "code",
   "execution_count": 1,
   "id": "3296be17-540c-4c45-bfb7-0556dd7214f6",
   "metadata": {},
   "outputs": [
    {
     "name": "stdin",
     "output_type": "stream",
     "text": [
      "What is your age= 13\n"
     ]
    },
    {
     "name": "stdout",
     "output_type": "stream",
     "text": [
      "You are a teenager\n"
     ]
    }
   ],
   "source": [
    "age = int(input(\"What is your age=\"))\n",
    "if age >=18:\n",
    "    print(\"You are an adult\")\n",
    "elif age >= 13 < 18:\n",
    "    print(\"You are a teenager\")\n",
    "else:\n",
    "    print(\"You are a child\")"
   ]
  },
  {
   "cell_type": "code",
   "execution_count": 2,
   "id": "904a4d83-3afa-40a1-ad8e-b7f9475313d4",
   "metadata": {},
   "outputs": [
    {
     "data": {
      "text/plain": [
       "<function matplotlib.pyplot.show(close=None, block=None)>"
      ]
     },
     "execution_count": 2,
     "metadata": {},
     "output_type": "execute_result"
    },
    {
     "data": {
      "image/png": "[encoded data removed]",
      "text/plain": [
       "<Figure size 640x480 with 1 Axes>"
      ]
     },
     "metadata": {},
     "output_type": "display_data"
    }
   ],
   "source": [
    "import matplotlib.pyplot as plt\n",
    "x = [0,1,2,3,4,5,6,7,8]\n",
    "y = [10,30,20,50,60,34,35,13,32]\n",
    "plt.plot(x,y,marker = \"o\", linestyle = \"--\",color = \"cyan\",markerfacecolor = \"red\")\n",
    "plt.show"
   ]
  },
  {
   "cell_type": "code",
   "execution_count": 86,
   "id": "1060821d-3d84-4e45-9f21-5836232e41cd",
   "metadata": {},
   "outputs": [],
   "source": [
    "import tkinter as tk\n",
    "from tkinter import *\n",
    "from tkinter import ttk\n",
    "\n",
    "gui = tk.Tk()\n",
    "gui.title(\"Registration Form\")\n",
    "gui.geometry(\"429x200\")\n",
    "gui.configure(bg=\"light gray\")\n",
    "\n",
    "#Labels\n",
    "reg_form = Label(gui, text = \"Registration form\",font = (\"24\"), bg = \"light gray\")\n",
    "reg_form.grid(row = 1, column = 5)\n",
    "\n",
    "full_name = Label(gui, text = \"Full name\",fg = \"black\",font = (\"6\"), bg = \"light gray\")\n",
    "full_name.grid(row = 2, column = 2)\n",
    "\n",
    "email = Label(gui,text = \"Email\",font = (\"6\"), bg = \"light gray\")\n",
    "email.grid(row = 3, column = 2)\n",
    "\n",
    "gender = Label(gui,text = \"Gender\",font = (\"6\"), bg = \"light gray\")\n",
    "gender.grid(row = 4, column = 2)\n",
    "\n",
    "country = Label(gui,text = \"Country\",font = (\"6\"), bg = \"light gray\")\n",
    "country.grid(row = 5, column = 2)\n",
    "\n",
    "language = Label(gui,text = \"Programming\",font = (\"6\"), bg = \"light gray\")\n",
    "language.grid(row = 6, column = 2)\n",
    "\n",
    "#Buttons\n",
    "fullname_entry = StringVar()\n",
    "fullname_entry = Entry(gui,textvariable = fullname_entry, width = 30)\n",
    "fullname_entry.grid(row = 2, column = 5)\n",
    "\n",
    "email_entry = StringVar()\n",
    "email_entry = Entry(gui,textvariable = email_entry, width = 30)\n",
    "email_entry.grid(row = 3, column = 5)\n",
    "\n",
    "#Checkbox\n",
    "gender_entry = IntVar()\n",
    "checkbox = Checkbutton(gui,text=\"Male\",variable = gender_entry, bg = \"light gray\")\n",
    "checkbox.deselect()\n",
    "checkbox.grid(row = 4, column = 4)\n",
    "\n",
    "gender_entry2 = IntVar()\n",
    "checkbox2 = Checkbutton(gui,text=\"Female\",variable = gender_entry2, bg = \"light gray\")\n",
    "checkbox2.deselect()\n",
    "checkbox2.grid(row = 4, column = 5)\n",
    "\n",
    "programming = IntVar()\n",
    "language = Checkbutton(gui,text=\"Java\",variable = programming, bg = \"light gray\")\n",
    "language.deselect()\n",
    "language.grid(row = 6, column = 4)\n",
    "\n",
    "programming2 = IntVar()\n",
    "language2 = Checkbutton(gui,text=\"Python\",variable = programming2, bg = \"light gray\")\n",
    "language2.deselect()\n",
    "language2.grid(row = 6, column = 5)\n",
    "\n",
    "#ComboBox\n",
    "combobox = tk.StringVar()\n",
    "country = ttk.Combobox(gui,width=30, textvariable = combobox)\n",
    "country[\"value\"]=[\"America\",\"China\",\"Japan\",\"Russia\",\"South Korea\",\"Nepal\",\"India\",\"Pakistan\",\"Saudia Arabia\",\"Egypt\",\"Canada\",\"Brazil\"\n",
    "                  ,\"Malaysia\"]\n",
    "country.grid(row = 5,column = 5)\n",
    "\n",
    "#Submit Buttton\n",
    "def submit():\n",
    "    gui.title(\"Form Submitted\")\n",
    "    reg_form = Label(gui, text = \"Form Submmitted\",font = (\"24\"), bg = \"light gray\")\n",
    "    reg_form.grid(row = 1, column = 5)\n",
    "    \n",
    "submit_button = Button(gui,text = \"Submit\",bg = \"red\", fg = \"white\", command = submit)\n",
    "submit_button.grid(row = 9, column = 10)\n",
    "\n",
    "\n",
    "tk.mainloop()"
   ]
  }
 ],
 "metadata": {
  "kernelspec": {
   "display_name": "Python 3 (ipykernel)",
   "language": "python",
   "name": "python3"
  },
  "language_info": {
   "codemirror_mode": {
    "name": "ipython",
    "version": 3
   },
   "file_extension": ".py",
   "mimetype": "text/x-python",
   "name": "python",
   "nbconvert_exporter": "python",
   "pygments_lexer": "ipython3",
   "version": "3.11.4"
  }
 },
 "nbformat": 4,
 "nbformat_minor": 5
}
